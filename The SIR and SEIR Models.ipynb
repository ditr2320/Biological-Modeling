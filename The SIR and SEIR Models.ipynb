{
 "cells": [
  {
   "cell_type": "markdown",
   "metadata": {},
   "source": [
    "# Notebook_4 - The SIR and SEIR Models"
   ]
  },
  {
   "cell_type": "markdown",
   "metadata": {},
   "source": [
    "### Import needed packages"
   ]
  },
  {
   "cell_type": "code",
   "execution_count": 10,
   "metadata": {},
   "outputs": [],
   "source": [
    "import numpy as np\n",
    "import matplotlib.pyplot as plt\n",
    "%matplotlib inline\n",
    "# let's set things up so we have nice font sizes\n",
    "plt.rcParams.update({'font.size': 12})"
   ]
  },
  {
   "cell_type": "markdown",
   "metadata": {},
   "source": [
    "### Goals"
   ]
  },
  {
   "cell_type": "markdown",
   "metadata": {},
   "source": [
    "We want to explore numerical solutions to the SIR and SEIR models."
   ]
  },
  {
   "cell_type": "markdown",
   "metadata": {},
   "source": [
    "# An SIR Model\n",
    "I've implemented the SIR equations in a simple (Euler) method. \n",
    "\n",
    "**Inputs**: \n",
    "- initial conditions (S0,I0,R0) \n",
    "- params (beta, gamma)\n",
    "- t a vector of evenly spaced times that you want to integrate over\n",
    "\n",
    "**Outputs**:\n",
    "- A tuple of (S,I,R) at the time points in t"
   ]
  },
  {
   "cell_type": "code",
   "execution_count": 11,
   "metadata": {},
   "outputs": [],
   "source": [
    "def SIR(initial_conditions, params, t):\n",
    "    '''\n",
    "    This function forward integrates a basic SIR model and returns S,I,R arrays.\n",
    "    \n",
    "    initial_conditions, a 3-tuple (S0, I0, R0) with initial counts in compartments\n",
    "    params, a 2-tuple (beta,gamma) with parameters:\n",
    "        beta, infection rate per S-I contact\n",
    "        gamma, I->R recovery rate\n",
    "    t, an array of timepoints, ASSUMED TO BE EQUALLY SPACED. \n",
    "    \n",
    "    Returns a numpy array of S, I, and R arrays. \n",
    "    '''\n",
    "    S0, I0, R0 = initial_conditions\n",
    "    S, I, R = [S0], [I0], [R0]\n",
    "    beta, gamma = params\n",
    "    dt = t[1] - t[0]\n",
    "    for _ in t[1:]:\n",
    "        St = S[-1] - (beta*S[-1]*I[-1])*dt\n",
    "        It = I[-1] + (beta*S[-1]*I[-1] - gamma*I[-1])*dt\n",
    "        Rt = R[-1] + (gamma*I[-1])*dt\n",
    "        S.append(St)\n",
    "        I.append(It)\n",
    "        R.append(Rt)\n",
    "    return S, I, R"
   ]
  },
  {
   "cell_type": "markdown",
   "metadata": {},
   "source": [
    "### Set up parameters, initial conditions, and run the simulations"
   ]
  },
  {
   "cell_type": "code",
   "execution_count": 12,
   "metadata": {},
   "outputs": [],
   "source": [
    "# Population size\n",
    "N=1000\n",
    "\n",
    "# Timesteps in days\n",
    "t_max = 120\n",
    "dt = 0.1\n",
    "t = np.linspace(0, t_max, int(t_max/dt) + 1)\n",
    "\n",
    "# SIR Parameters\n",
    "# Infectiousness\n",
    "beta = .3\n",
    "# R0\n",
    "R_0=5\n",
    "# R0 = beta / gamma, so...  gamma = beta/R0\n",
    "# Rate at which I -> R\n",
    "gamma = beta / R_0\n",
    "params = beta, gamma"
   ]
  },
  {
   "cell_type": "code",
   "execution_count": 13,
   "metadata": {},
   "outputs": [],
   "source": [
    "# Initial Conditions\n",
    "S0=1 - 10/N\n",
    "I0=10/N\n",
    "R0=0\n",
    "\n",
    "# Run the simulation\n",
    "results = SIR((S0,I0,R0), params, t)"
   ]
  },
  {
   "cell_type": "markdown",
   "metadata": {},
   "source": [
    "### Plot Results"
   ]
  },
  {
   "cell_type": "code",
   "execution_count": 14,
   "metadata": {},
   "outputs": [
    {
     "data": {
      "text/plain": [
       "Text(0, 0.5, 'population fraction')"
      ]
     },
     "execution_count": 14,
     "metadata": {},
     "output_type": "execute_result"
    },
    {
     "data": {
      "image/png": "[encoded data removed]",
      "text/plain": [
       "<Figure size 432x288 with 1 Axes>"
      ]
     },
     "metadata": {
      "needs_background": "light"
     },
     "output_type": "display_data"
    }
   ],
   "source": [
    "colors = {\n",
    "    'S':'#22223B',\n",
    "    'I':'#F13030',\n",
    "    'R':'#FFA737'}\n",
    "\n",
    "# Set up the axes\n",
    "fig, ax = plt.subplots(nrows=1,ncols=1)\n",
    "S,I,R = results\n",
    "ax.plot(t,S,label='S',color=colors['S'])\n",
    "ax.plot(t,I,label='I',color=colors['I'],linewidth=2)\n",
    "ax.plot(t,R,label='R',color=colors['R'])\n",
    "\n",
    "# Make the plot attractive\n",
    "ax.legend(loc='best')\n",
    "ax.set_xlim(left=0)\n",
    "ax.set_ylim(bottom=0)\n",
    "ax.set_xlabel('time (days)')\n",
    "ax.set_ylabel('population fraction')"
   ]
  },
  {
   "cell_type": "markdown",
   "metadata": {},
   "source": [
    "# An SEIR Model\n",
    "I've implemented the SEIR equations in a simple (Euler) method. \n",
    "\n",
    "**Inputs**: \n",
    "- initial conditions (S0,E0,I0,R0) \n",
    "- params (alpha, beta, gamma)\n",
    "- t a vector of evenly spaced times that you want to integrate over\n",
    "\n",
    "**Outputs**:\n",
    "- A tuple of (S,E,I,R) at the time points in t"
   ]
  },
  {
   "cell_type": "code",
   "execution_count": 6,
   "metadata": {},
   "outputs": [],
   "source": [
    "def SEIR(initial_conditions, params, t):\n",
    "    '''\n",
    "    This function forward integrates a basic SEIR model and returns S,E,I,R arrays.\n",
    "    \n",
    "    initial_conditions, a 4-tuple (S0, E0, I0, R0) with initial counts in compartments\n",
    "    params, a 4-tuple (alpha,beta,gamma,rho) with parameters:\n",
    "        alpha, E->I symptom onset rate\n",
    "        beta, infection rate per S-I contact\n",
    "        gamma, I->R recovery rate\n",
    "        rho, social distancing parameter 0≤rho≤1\n",
    "    t, an array of timepoints, ASSUMED TO BE EQUALLY SPACED. \n",
    "    \n",
    "    Returns a numpy array of S, E, I, and R arrays. \n",
    "    '''\n",
    "    S0, E0, I0, R0 = initial_conditions\n",
    "    S, E, I, R = [S0], [E0], [I0], [R0]\n",
    "    alpha, beta, gamma, rho = params\n",
    "    dt = t[1] - t[0]\n",
    "    for _ in t[1:]:\n",
    "        St = S[-1] - (beta*S[-1]*rho*I[-1])*dt\n",
    "        Et = E[-1] + (beta*S[-1]*rho*I[-1] - alpha*E[-1])*dt\n",
    "        It = I[-1] + (alpha*E[-1] - gamma*I[-1])*dt\n",
    "        Rt = R[-1] + (gamma*I[-1])*dt\n",
    "        S.append(St)\n",
    "        E.append(Et)\n",
    "        I.append(It)\n",
    "        R.append(Rt)\n",
    "    return S, E, I, R"
   ]
  },
  {
   "cell_type": "code",
   "execution_count": 7,
   "metadata": {},
   "outputs": [],
   "source": [
    "# Population size\n",
    "N=1000\n",
    "\n",
    "# Timesteps in days\n",
    "t_max = 180\n",
    "dt = 0.1\n",
    "t = np.linspace(0, t_max, int(t_max/dt) + 1)\n",
    "\n",
    "# SEIR Parameters\n",
    "# Rate at which E -> I\n",
    "alpha = .2\n",
    "# Infectiousness\n",
    "beta = 1\n",
    "# R0\n",
    "R_0=2\n",
    "# R0 = beta / gamma, so...  gamma = beta/R0\n",
    "# Rate at which I -> R\n",
    "gamma = beta / R_0\n",
    "rho = 1\n",
    "params = alpha, beta, gamma, rho\n",
    "\n",
    "rho = 0.8\n",
    "params_socdist = alpha, beta, gamma, rho"
   ]
  },
  {
   "cell_type": "code",
   "execution_count": 8,
   "metadata": {},
   "outputs": [],
   "source": [
    "# Initial Conditions\n",
    "S0=1 - 1/N\n",
    "E0=0\n",
    "I0=1/N\n",
    "R0=0\n",
    "\n",
    "# Run the simulation\n",
    "results = SEIR((S0,E0,I0,R0), params, t)\n",
    "results_socdist = SEIR((S0,E0,I0,R0), params_socdist, t)"
   ]
  },
  {
   "cell_type": "code",
   "execution_count": 9,
   "metadata": {},
   "outputs": [
    {
     "data": {
      "text/plain": [
       "Text(0, 0.5, 'population fraction')"
      ]
     },
     "execution_count": 9,
     "metadata": {},
     "output_type": "execute_result"
    },
    {
     "data": {
      "image/png": "[encoded data removed]",
      "text/plain": [
       "<Figure size 432x288 with 1 Axes>"
      ]
     },
     "metadata": {
      "needs_background": "light"
     },
     "output_type": "display_data"
    }
   ],
   "source": [
    "colors = {\n",
    "    'S':'#22223B',\n",
    "    'E':'#9FD356',\n",
    "    'I':'#F13030',\n",
    "    'R':'#FFA737'}\n",
    "\n",
    "# Set up the axes\n",
    "fig, ax = plt.subplots(nrows=1,ncols=1)\n",
    "S,E,I,R = results\n",
    "S_socdist,E_socdist,I_socdist,R_socdist = results_socdist\n",
    "# CODE TO PLOT GOES HERE.\n",
    "# ax.plot(t,S,label='S',color=colors['S'])\n",
    "ax.plot(t,E,label='E',color=colors['E'],linewidth=2)\n",
    "ax.plot(t,I,label='I',color=colors['I'],linewidth=2)\n",
    "# ax.plot(t,R,label='R',color=colors['R'])\n",
    "\n",
    "ax.plot(t,E_socdist,\n",
    "        label='E',\n",
    "        color=colors['E'],\n",
    "        linewidth=2,\n",
    "        ls='--')\n",
    "ax.plot(t,I_socdist,\n",
    "        label='I',\n",
    "        color=colors['I'],\n",
    "        linewidth=2, \n",
    "        ls='--')\n",
    "\n",
    "# Make the plot attractive\n",
    "ax.legend(loc='best')\n",
    "ax.set_xlim(left=0)\n",
    "ax.set_ylim(bottom=0)\n",
    "ax.set_xlabel('time (days)')\n",
    "ax.set_ylabel('population fraction')"
   ]
  },
  {
   "cell_type": "code",
   "execution_count": null,
   "metadata": {},
   "outputs": [],
   "source": []
  },
  {
   "cell_type": "code",
   "execution_count": null,
   "metadata": {},
   "outputs": [],
   "source": []
  }
 ],
 "metadata": {
  "kernelspec": {
   "display_name": "Python 3 (ipykernel)",
   "language": "python",
   "name": "python3"
  },
  "language_info": {
   "codemirror_mode": {
    "name": "ipython",
    "version": 3
   },
   "file_extension": ".py",
   "mimetype": "text/x-python",
   "name": "python",
   "nbconvert_exporter": "python",
   "pygments_lexer": "ipython3",
   "version": "3.8.5"
  }
 },
 "nbformat": 4,
 "nbformat_minor": 4
}
