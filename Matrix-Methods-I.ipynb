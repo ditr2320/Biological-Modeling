{
 "cells": [
  {
   "cell_type": "markdown",
   "metadata": {},
   "source": [
    "# Notebook_5 - Matrix Machines"
   ]
  },
  {
   "cell_type": "markdown",
   "metadata": {},
   "source": [
    "### Import needed packages"
   ]
  },
  {
   "cell_type": "code",
   "execution_count": 1,
   "metadata": {},
   "outputs": [],
   "source": [
    "import numpy as np\n",
    "import matplotlib.pyplot as plt\n",
    "# let's set things up so we have nice font sizes\n",
    "plt.rcParams.update({'font.size': 12})"
   ]
  },
  {
   "cell_type": "markdown",
   "metadata": {},
   "source": [
    "### Goals"
   ]
  },
  {
   "cell_type": "markdown",
   "metadata": {},
   "source": [
    "We want to explore matrices as machines!"
   ]
  },
  {
   "cell_type": "code",
   "execution_count": 2,
   "metadata": {},
   "outputs": [],
   "source": [
    "# define a 2x2 matrix\n",
    "matrix = np.array([\n",
    "    [1,2],\n",
    "    [-1/2,1],\n",
    "])\n",
    "# define an input vector\n",
    "input_vector = np.array(\n",
    "    [1,1]\n",
    ")"
   ]
  },
  {
   "cell_type": "code",
   "execution_count": 3,
   "metadata": {},
   "outputs": [],
   "source": [
    "# this is how you multiply a matrix by a vector in numpy\n",
    "output_vector = matrix.dot(input_vector)"
   ]
  },
  {
   "cell_type": "code",
   "execution_count": 4,
   "metadata": {},
   "outputs": [
    {
     "name": "stdout",
     "output_type": "stream",
     "text": [
      "input vector:\n",
      "[1 1]\n",
      "output vector:\n",
      "[3.  0.5]\n"
     ]
    }
   ],
   "source": [
    "# let's print the output to see what's going on...\n",
    "print('input vector:')\n",
    "print(input_vector)\n",
    "print('output vector:')\n",
    "print(output_vector)"
   ]
  },
  {
   "cell_type": "markdown",
   "metadata": {},
   "source": [
    "Great! So now that we've got a basic operation out of the way, let's wrap it in a couple functions so we can explore!\n",
    "### Define some custom functions"
   ]
  },
  {
   "cell_type": "code",
   "execution_count": 5,
   "metadata": {},
   "outputs": [],
   "source": [
    "def plot_vectors(vector,matrix,ax,color):\n",
    "    '''\n",
    "    Give this function a vector, a matrix, the axes to plot into, and\n",
    "    a color, and it'll plot the vector AND the matrix*vector.\n",
    "    '''\n",
    "    vector2 = matrix.dot(np.array(vector))\n",
    "    ax.scatter(0,0,color='k',zorder=10)\n",
    "    ax.plot([0,vector2[0]],[0,vector2[1]],color=color)\n",
    "    ax.scatter(vector2[0],vector2[1],color=color)\n",
    "    ax.plot([0,vector[0]],[0,vector[1]],color=color,alpha=0.5,ls='--')\n",
    "    ax.scatter(vector[0],vector[1],edgecolor=color,facecolor='w',zorder=10)"
   ]
  },
  {
   "cell_type": "code",
   "execution_count": 6,
   "metadata": {},
   "outputs": [],
   "source": [
    "def square(ax):\n",
    "    '''\n",
    "    Give this function some axes, and it'll square them up for good\n",
    "    and attractive viewing. It'll also put the axes in the middle\n",
    "    '''\n",
    "    xlims = ax.get_xlim()\n",
    "    ylims = ax.get_ylim()\n",
    "    M = np.max([np.max(xlims),np.max(ylims)])\n",
    "    ax.set_xlim([-M,M])\n",
    "    ax.set_ylim([-M,M])\n",
    "    \n",
    "    # set the x-spine (see below for more info on `set_position`)\n",
    "    ax.spines['left'].set_position('zero')\n",
    "\n",
    "    # turn off the right spine/ticks\n",
    "    ax.spines['right'].set_color('none')\n",
    "    ax.yaxis.tick_left()\n",
    "\n",
    "    # set the y-spine\n",
    "    ax.spines['bottom'].set_position('zero')\n",
    "\n",
    "    # turn off the top spine/ticks\n",
    "    ax.spines['top'].set_color('none')\n",
    "    ax.xaxis.tick_bottom()"
   ]
  },
  {
   "cell_type": "code",
   "execution_count": 7,
   "metadata": {},
   "outputs": [
    {
     "data": {
      "image/png": "[encoded data removed]",
      "text/plain": [
       "<Figure size 576x576 with 1 Axes>"
      ]
     },
     "metadata": {
      "needs_background": "light"
     },
     "output_type": "display_data"
    }
   ],
   "source": [
    "fig,ax = plt.subplots(nrows=1,ncols=1,figsize=(8,8))\n",
    "matrix = np.array([\n",
    "    [1,2],\n",
    "    [-1/2,1],\n",
    "])\n",
    "plot_vectors([1,1],matrix,ax,'g')\n",
    "# plot_vectors([-1,-1],matrix,ax,'b')\n",
    "plot_vectors([.5,.5],matrix,ax,'r')\n",
    "# plot_vectors([-1,1],matrix,ax,'c')\n",
    "plot_vectors([1,2],matrix,ax,'orange')\n",
    "plot_vectors([2,3],matrix,ax,'purple')\n",
    "plot_vectors([4,2],matrix,ax,'black')\n",
    "plot_vectors([4,-1],matrix,ax,'c')\n",
    "square(ax)"
   ]
  },
  {
   "cell_type": "code",
   "execution_count": null,
   "metadata": {},
   "outputs": [],
   "source": []
  },
  {
   "cell_type": "code",
   "execution_count": null,
   "metadata": {},
   "outputs": [],
   "source": []
  }
 ],
 "metadata": {
  "kernelspec": {
   "display_name": "Python 3 (ipykernel)",
   "language": "python",
   "name": "python3"
  },
  "language_info": {
   "codemirror_mode": {
    "name": "ipython",
    "version": 3
   },
   "file_extension": ".py",
   "mimetype": "text/x-python",
   "name": "python",
   "nbconvert_exporter": "python",
   "pygments_lexer": "ipython3",
   "version": "3.8.5"
  }
 },
 "nbformat": 4,
 "nbformat_minor": 4
}
