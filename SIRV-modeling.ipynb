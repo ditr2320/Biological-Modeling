{
 "cells": [
  {
   "cell_type": "markdown",
   "metadata": {},
   "source": [
    "### Import needed packages"
   ]
  },
  {
   "cell_type": "code",
   "execution_count": 1,
   "metadata": {},
   "outputs": [],
   "source": [
    "import numpy as np\n",
    "import matplotlib.pyplot as plt\n",
    "%matplotlib inline\n",
    "# let's set things up so we have nice font sizes\n",
    "plt.rcParams.update({'font.size': 12})"
   ]
  },
  {
   "cell_type": "markdown",
   "metadata": {},
   "source": [
    "### Goals"
   ]
  },
  {
   "cell_type": "markdown",
   "metadata": {},
   "source": [
    "We want to explore numerical solutions to the SIR and SEIR models."
   ]
  },
  {
   "cell_type": "markdown",
   "metadata": {},
   "source": [
    "# An SIR Model\n",
    "I've implemented the SIR equations in a simple (Euler) method. \n",
    "\n",
    "**Inputs**: \n",
    "- initial conditions (S0,I0,R0) \n",
    "- params (beta, gamma)\n",
    "- t a vector of evenly spaced times that you want to integrate over\n",
    "\n",
    "**Outputs**:\n",
    "- A tuple of (S,I,R) at the time points in t"
   ]
  },
  {
   "cell_type": "code",
   "execution_count": 2,
   "metadata": {},
   "outputs": [],
   "source": [
    "def SIRV(initial_conditions, params, t,N):\n",
    "    '''\n",
    "    This function forward integrates a basic SIR model and returns S,I,R arrays.\n",
    "    \n",
    "    initial_conditions, a 3-tuple (S0, I0, R0) with initial counts in compartments\n",
    "    params, a 2-tuple (beta,gamma) with parameters:\n",
    "        beta, infection rate per S-I contact\n",
    "        gamma, I->R recovery rate\n",
    "    t, an array of timepoints, ASSUMED TO BE EQUALLY SPACED. \n",
    "    \n",
    "    Returns a numpy array of S, I, and R arrays. \n",
    "    '''\n",
    "    S0, I0, R0, V0 = initial_conditions\n",
    "    S, I, R, V = [S0], [I0], [R0], [V0]\n",
    "    beta, gamma, w, alpha = params\n",
    "    dt = t[1] - t[0]\n",
    "    for _ in t[1:]:\n",
    "#         St = S[-1] - (beta*S[-1]*I[-1])*dt\n",
    "        St = S[-1] + (-(beta*S[-1]*I[-1]) - (alpha) + (w) - S[-1]*w)*dt\n",
    "    \n",
    "#         It = I[-1] + (beta*S[-1]*I[-1] - gamma*I[-1])*dt\n",
    "        It = I[-1] + (beta*S[-1]*I[-1] - gamma*I[-1]- I[-1]*w)*dt\n",
    "    \n",
    "#         Rt = R[-1] + (gamma*I[-1])*dt\n",
    "        Rt = R[-1] + ((gamma*I[-1])- R[-1]*w)*dt\n",
    "    \n",
    "        Vt = V[-1] + (alpha - V[-1]*w)*dt\n",
    "        S.append(St)\n",
    "        I.append(It)\n",
    "        R.append(Rt)\n",
    "        V.append(Vt)\n",
    "    return S, I, R, V"
   ]
  },
  {
   "cell_type": "markdown",
   "metadata": {},
   "source": [
    "### Set up parameters, initial conditions, and run the simulations"
   ]
  },
  {
   "cell_type": "code",
   "execution_count": 3,
   "metadata": {},
   "outputs": [],
   "source": [
    "# Population size\n",
    "N=1000\n",
    "\n",
    "# Timesteps in days\n",
    "t_max = 1825\n",
    "dt = 1\n",
    "t = np.linspace(0, t_max, int(t_max/dt) + 1)\n",
    "\n",
    "# SIR Parameters\n",
    "# Infectiousness\n",
    "beta = 1\n",
    "# R0\n",
    "#R_0=5\n",
    "# R0 = beta / gamma, so...  gamma = beta/R0\n",
    "# Rate at which I -> R\n",
    "#gamma = beta / R_0\n",
    "gamma = 0.25\n",
    "\n",
    "alpha = .001 #vaccination rate 0.001 per capita rate\n",
    "w = .002 #death rate \n",
    "\n",
    "params = beta, gamma, w, alpha"
   ]
  },
  {
   "cell_type": "code",
   "execution_count": 4,
   "metadata": {},
   "outputs": [],
   "source": [
    "# Initial Conditions\n",
    "S0=1 - 1/N\n",
    "I0=1/N\n",
    "R0=0\n",
    "V0=0\n",
    "# Run the simulation\n",
    "results = SIRV((S0,I0,R0,V0), params, t, N)"
   ]
  },
  {
   "cell_type": "markdown",
   "metadata": {},
   "source": [
    "### Plot Results"
   ]
  },
  {
   "cell_type": "code",
   "execution_count": 5,
   "metadata": {},
   "outputs": [
    {
     "data": {
      "text/plain": [
       "Text(0, 0.5, 'population fraction')"
      ]
     },
     "execution_count": 5,
     "metadata": {},
     "output_type": "execute_result"
    },
    {
     "data": {
      "image/png": "[encoded data removed]",
      "text/plain": [
       "<Figure size 432x288 with 1 Axes>"
      ]
     },
     "metadata": {
      "needs_background": "light"
     },
     "output_type": "display_data"
    }
   ],
   "source": [
    "colors = {\n",
    "    'S':'blue',\n",
    "    'I':'#F13030',\n",
    "    'R':'black', \n",
    "    'V':'#9FD356'}\n",
    "\n",
    "# Set up the axes\n",
    "fig, ax = plt.subplots(nrows=1,ncols=1)\n",
    "S,I,R,V = results\n",
    "ax.plot(t,S,label='S',color=colors['S'])\n",
    "ax.plot(t,I,label='I',color=colors['I'],linewidth=2)\n",
    "ax.plot(t,R,label='R',color=colors['R'])\n",
    "ax.plot(t,V,label='V',color=colors['V'])\n",
    "# \n",
    "# Make the plot attractive\n",
    "ax.legend(loc='best')\n",
    "ax.set_xlim(left=0)\n",
    "ax.set_ylim(bottom=0)\n",
    "ax.set_xlabel('time (days)')\n",
    "ax.set_ylabel('population fraction')"
   ]
  },
  {
   "cell_type": "code",
   "execution_count": null,
   "metadata": {},
   "outputs": [],
   "source": []
  },
  {
   "cell_type": "code",
   "execution_count": null,
   "metadata": {},
   "outputs": [],
   "source": []
  },
  {
   "cell_type": "code",
   "execution_count": null,
   "metadata": {},
   "outputs": [],
   "source": []
  }
 ],
 "metadata": {
  "kernelspec": {
   "display_name": "Python 3 (ipykernel)",
   "language": "python",
   "name": "python3"
  },
  "language_info": {
   "codemirror_mode": {
    "name": "ipython",
    "version": 3
   },
   "file_extension": ".py",
   "mimetype": "text/x-python",
   "name": "python",
   "nbconvert_exporter": "python",
   "pygments_lexer": "ipython3",
   "version": "3.8.5"
  }
 },
 "nbformat": 4,
 "nbformat_minor": 4
}
