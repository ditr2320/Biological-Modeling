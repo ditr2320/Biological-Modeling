{
 "cells": [
  {
   "cell_type": "code",
   "execution_count": 1,
   "id": "35234307-36a8-43fd-9a0c-8fe50dcbb74d",
   "metadata": {},
   "outputs": [],
   "source": [
    "%matplotlib inline\n",
    "\n",
    "import numpy as np\n",
    "import matplotlib.pyplot as plt\n",
    "# let's set things up so we have nice font sizes\n",
    "plt.rcParams.update({'font.size': 12})"
   ]
  },
  {
   "cell_type": "code",
   "execution_count": 2,
   "id": "d255c69f-5947-4019-93b6-dab3271ca069",
   "metadata": {},
   "outputs": [],
   "source": [
    "# This function takes in where we are \"now\" (tn,yn) as well as a\n",
    "# step size h, and then takes a step in the right direction. \n",
    "def forward_euler_step(tn,yn,delta_t):\n",
    "    ynext = yn + delta_t * f(tn,yn)\n",
    "    tnext = tn + delta_t\n",
    "    return tnext,ynext"
   ]
  },
  {
   "cell_type": "code",
   "execution_count": 3,
   "id": "f754fe49-9753-42dc-9361-e6d11b216758",
   "metadata": {},
   "outputs": [],
   "source": [
    "# This function implements the RHS of our differential equation. \n",
    "# It will get called *inside* the forward_euler_step function!\n",
    "def f(t,y):\n",
    "    return 2*t*y"
   ]
  },
  {
   "cell_type": "code",
   "execution_count": 4,
   "id": "0eca90ce-ee2b-4d46-9e2f-8f508ff8502e",
   "metadata": {},
   "outputs": [],
   "source": [
    "# Let's start by choosing a step size\n",
    "#delta_t = 0.1\n",
    "delta_t = 0.01\n",
    "# Let's also decide on a final value for t. \n",
    "t_final = 3\n",
    "\n",
    "# Let's initialize some empty Python lists to store the solution\n",
    "t_solution = []\n",
    "y_solution = []\n",
    "\n",
    "# And let's put in the initial conditions: t=1 and y=1\n",
    "# by appending them to the end of the lists.\n",
    "t0 = 1\n",
    "y0 = 1\n",
    "t_solution.append(t0)\n",
    "y_solution.append(y0)\n",
    "\n",
    "# We'll keep stepping forward until we've reached t_final\n",
    "while ( t_solution[-1]<t_final ):\n",
    "    t_next,y_next=forward_euler_step(t_solution[-1],y_solution[-1],delta_t)\n",
    "    t_solution.append(t_next)\n",
    "    y_solution.append(y_next)"
   ]
  },
  {
   "cell_type": "code",
   "execution_count": 5,
   "id": "054736be-ccf0-4e11-9936-8ed24406bfbc",
   "metadata": {},
   "outputs": [],
   "source": [
    "def true_solution(t):\n",
    "    # e^(t^2-1), the true solution\n",
    "    return np.exp(np.array(t)**2-1)"
   ]
  },
  {
   "cell_type": "code",
   "execution_count": 6,
   "id": "1f567da7-7614-45f0-b4e2-12c32df67870",
   "metadata": {},
   "outputs": [],
   "source": [
    "y_true = true_solution(t_solution)"
   ]
  },
  {
   "cell_type": "code",
   "execution_count": 7,
   "id": "14a84f5c-5043-4eda-ab4c-d076cfa35211",
   "metadata": {},
   "outputs": [
    {
     "data": {
      "text/plain": [
       "Text(0.5, 1.0, 'numerical solution example')"
      ]
     },
     "execution_count": 7,
     "metadata": {},
     "output_type": "execute_result"
    },
    {
     "data": {
      "image/png": "[encoded data removed]",
      "text/plain": [
       "<Figure size 432x288 with 1 Axes>"
      ]
     },
     "metadata": {
      "needs_background": "light"
     },
     "output_type": "display_data"
    }
   ],
   "source": [
    "# Set up the axes\n",
    "fig, ax = plt.subplots(nrows=1,ncols=1)\n",
    "# Plot the numerical solution\n",
    "ax.plot(t_solution,y_solution,label='numerical soln')\n",
    "# Plot the true solution\n",
    "ax.plot(t_solution,y_true,label='true soln')\n",
    "\n",
    "# Make the plot attractive\n",
    "ax.set_xlabel('x')\n",
    "ax.set_ylabel('y')\n",
    "ax.legend(loc='best')\n",
    "ax.set_title('numerical solution example')"
   ]
  },
  {
   "cell_type": "code",
   "execution_count": null,
   "id": "30c0ed9e-bd14-4217-adde-3971a0d9fce7",
   "metadata": {},
   "outputs": [],
   "source": []
  }
 ],
 "metadata": {
  "kernelspec": {
   "display_name": "Python 3 (ipykernel)",
   "language": "python",
   "name": "python3"
  },
  "language_info": {
   "codemirror_mode": {
    "name": "ipython",
    "version": 3
   },
   "file_extension": ".py",
   "mimetype": "text/x-python",
   "name": "python",
   "nbconvert_exporter": "python",
   "pygments_lexer": "ipython3",
   "version": "3.8.5"
  }
 },
 "nbformat": 4,
 "nbformat_minor": 5
}
